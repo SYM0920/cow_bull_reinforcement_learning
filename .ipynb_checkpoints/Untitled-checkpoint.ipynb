{
 "cells": [
  {
   "cell_type": "code",
   "execution_count": 1,
   "metadata": {
    "ExecuteTime": {
     "end_time": "2019-02-01T07:49:31.841095Z",
     "start_time": "2019-02-01T07:49:29.498315Z"
    }
   },
   "outputs": [
    {
     "name": "stderr",
     "output_type": "stream",
     "text": [
      "Using TensorFlow backend.\n"
     ]
    }
   ],
   "source": [
    "from keras.layers import Dense, Conv1D\n",
    "from keras.models import Sequential\n",
    "from keras.optimizers import Adam"
   ]
  },
  {
   "cell_type": "code",
   "execution_count": 1,
   "metadata": {},
   "outputs": [],
   "source": [
    "class A2CAgent:\n",
    "    def __init__(self, game_length, action_size, n_options):\n",
    "        self.render = True\n",
    "        self.load_model = False\n",
    "        self.game_length = game_length\n",
    "        self.action_size = action_size\n",
    "        self.value_size = 1\n",
    "        self.n_options = n_options\n",
    "\n",
    "        self.discount_factor = 0.99\n",
    "        self.actor_lr = 0.001\n",
    "        self.critic_lr = 0.005\n",
    "\n",
    "        self.actor = self.build_actor()\n",
    "        self.critic = self.build_critic()\n",
    "\n",
    "        if self.load_model:\n",
    "            self.actor.load_weights(\"./save_model/Cowbull_actor.h5\")\n",
    "            self.critic.load_weights(\"./save_model/Cowbull_critic.h5\")\n",
    "\n",
    "    # approximate policy and value using Neural Network\n",
    "    # actor: state is input and probability of each action is output of model\n",
    "    def build_actor(self):\n",
    "        actor = Sequential()\n",
    "\n",
    "        actor.add(\n",
    "            Conv1D(\n",
    "                input_dim=(self.game_length, (2 * self.action_size + 1)),\n",
    "                kernel_size=2,\n",
    "                strides=1,\n",
    "                padding='valid',\n",
    "                activation='relu',\n",
    "                kernel_initializer='he_uniform'))\n",
    "        actor.add(\n",
    "            Dense(16, activation='relu', kernel_initializer='he_uniform'))\n",
    "        actor.add(\n",
    "            Dense(16, activation='relu', kernel_initializer='he_uniform'))\n",
    "        actor.add(\n",
    "            Dense(\n",
    "                self.n_options,\n",
    "                activation='softmax',\n",
    "                kernel_initializer='he_uniform'))\n",
    "        actor.summary()\n",
    "        actor.compile(\n",
    "            loss='categorical_crossentropy', optimizer=Adam(lr=self.actor_lr))\n",
    "        return actor\n",
    "\n",
    "    # critic: state is input and value of state is output of model\n",
    "    def build_critic(self):\n",
    "\n",
    "        critic = Sequential()\n",
    "\n",
    "        critic.add(\n",
    "            Conv1D(\n",
    "                input_dim=(self.game_length, (2 * self.action_size + 1)),\n",
    "                kernel_size=2,\n",
    "                strides=1,\n",
    "                padding='valid',\n",
    "                activation='relu',\n",
    "                kernel_initializer='he_uniform'))\n",
    "        critic.add(\n",
    "            Dense(32, activation='relu', kernel_initializer='he_uniform'))\n",
    "        critic.add(\n",
    "            Dense(32, activation='relu', kernel_initializer='he_uniform'))\n",
    "        critic.add(\n",
    "            Dense(\n",
    "                self.value_size,\n",
    "                activation='linear',\n",
    "                kernel_initializer='he_uniform'))\n",
    "        critic.summary()\n",
    "        critic.compile(loss=\"mse\", optimizer=Adam(lr=self.critic_lr))\n",
    "\n",
    "        return critic\n",
    "\n",
    "    # using the output of policy network, pick action stochastically\n",
    "    def get_action(self, state):\n",
    "\n",
    "        action = []\n",
    "        state[2 * self.action_size] = state[0]\n",
    "        for i in len(self.action_size):\n",
    "            state[2 * self.action_size] = state[i]\n",
    "            policy = self.actor.predict(state, batch_size=1).flatten()\n",
    "            action.append(\n",
    "                np.random.choice(np.arange(0, self.n_options), p=policy))\n",
    "        return action\n",
    "\n",
    "    # update policy network every episode\n",
    "    def train_model(self, state, action, reward, next_state):\n",
    "\n",
    "        for i in range(self.action_size):\n",
    "            \n",
    "            target = np.zeros((1, self.value_size))\n",
    "            advantages = np.zeros((1, self.n_options))\n",
    "            \n",
    "            state[2 * self.action_size] = state[i]\n",
    "            next_state[2 * self.action_size] = state[i]\n",
    "            \n",
    "            value = self.critic.predict(state)[0]\n",
    "            next_value = self.critic.predict(next_state)[0]\n",
    "\n",
    "            advantages[0][action[i]] = reward + self.discount_factor * (\n",
    "                next_value) - value\n",
    "            target[0][0] = reward + self.discount_factor * next_value\n",
    "\n",
    "            self.actor.fit(state, advantages, epochs=1, verbose=0)\n",
    "            self.critic.fit(state, target, epochs=1, verbose=0)"
   ]
  },
  {
   "cell_type": "code",
   "execution_count": null,
   "metadata": {},
   "outputs": [],
   "source": []
  }
 ],
 "metadata": {
  "kernelspec": {
   "display_name": "Python 3",
   "language": "python",
   "name": "python3"
  },
  "language_info": {
   "codemirror_mode": {
    "name": "ipython",
    "version": 3
   },
   "file_extension": ".py",
   "mimetype": "text/x-python",
   "name": "python",
   "nbconvert_exporter": "python",
   "pygments_lexer": "ipython3",
   "version": "3.6.8"
  },
  "toc": {
   "base_numbering": 1,
   "nav_menu": {},
   "number_sections": true,
   "sideBar": true,
   "skip_h1_title": false,
   "title_cell": "Table of Contents",
   "title_sidebar": "Contents",
   "toc_cell": false,
   "toc_position": {},
   "toc_section_display": true,
   "toc_window_display": false
  },
  "varInspector": {
   "cols": {
    "lenName": 16,
    "lenType": 16,
    "lenVar": 40
   },
   "kernels_config": {
    "python": {
     "delete_cmd_postfix": "",
     "delete_cmd_prefix": "del ",
     "library": "var_list.py",
     "varRefreshCmd": "print(var_dic_list())"
    },
    "r": {
     "delete_cmd_postfix": ") ",
     "delete_cmd_prefix": "rm(",
     "library": "var_list.r",
     "varRefreshCmd": "cat(var_dic_list()) "
    }
   },
   "types_to_exclude": [
    "module",
    "function",
    "builtin_function_or_method",
    "instance",
    "_Feature"
   ],
   "window_display": false
  }
 },
 "nbformat": 4,
 "nbformat_minor": 2
}
